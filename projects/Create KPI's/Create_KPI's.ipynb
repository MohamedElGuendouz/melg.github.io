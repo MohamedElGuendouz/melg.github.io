{
 "cells": [
  {
   "cell_type": "markdown",
   "metadata": {},
   "source": [
    "# MOHAMED EL GUENDOUZ\n",
    "## Create KPI's"
   ]
  },
  {
   "cell_type": "markdown",
   "metadata": {},
   "source": [
    "#### Import Mock Data"
   ]
  },
  {
   "cell_type": "code",
   "execution_count": 1,
   "metadata": {},
   "outputs": [
    {
     "data": {
      "text/html": [
       "<div>\n",
       "<style scoped>\n",
       "    .dataframe tbody tr th:only-of-type {\n",
       "        vertical-align: middle;\n",
       "    }\n",
       "\n",
       "    .dataframe tbody tr th {\n",
       "        vertical-align: top;\n",
       "    }\n",
       "\n",
       "    .dataframe thead th {\n",
       "        text-align: right;\n",
       "    }\n",
       "</style>\n",
       "<table border=\"1\" class=\"dataframe\">\n",
       "  <thead>\n",
       "    <tr style=\"text-align: right;\">\n",
       "      <th></th>\n",
       "      <th>id</th>\n",
       "      <th>gender</th>\n",
       "      <th>first_name</th>\n",
       "      <th>last_name</th>\n",
       "      <th>age</th>\n",
       "      <th>email</th>\n",
       "      <th>country</th>\n",
       "      <th>job</th>\n",
       "      <th>salary</th>\n",
       "    </tr>\n",
       "  </thead>\n",
       "  <tbody>\n",
       "    <tr>\n",
       "      <th>0</th>\n",
       "      <td>1</td>\n",
       "      <td>Female</td>\n",
       "      <td>Sander</td>\n",
       "      <td>Gard</td>\n",
       "      <td>47</td>\n",
       "      <td>sgard0@netvibes.com</td>\n",
       "      <td>China</td>\n",
       "      <td>Financial Analyst</td>\n",
       "      <td>4592</td>\n",
       "    </tr>\n",
       "    <tr>\n",
       "      <th>1</th>\n",
       "      <td>2</td>\n",
       "      <td>Female</td>\n",
       "      <td>Brody</td>\n",
       "      <td>Gillhespy</td>\n",
       "      <td>47</td>\n",
       "      <td>bgillhespy1@issuu.com</td>\n",
       "      <td>China</td>\n",
       "      <td>Tax Accountant</td>\n",
       "      <td>3969</td>\n",
       "    </tr>\n",
       "    <tr>\n",
       "      <th>2</th>\n",
       "      <td>3</td>\n",
       "      <td>Male</td>\n",
       "      <td>Mason</td>\n",
       "      <td>Impy</td>\n",
       "      <td>50</td>\n",
       "      <td>mimpy2@slashdot.org</td>\n",
       "      <td>United States</td>\n",
       "      <td>Editor</td>\n",
       "      <td>5727</td>\n",
       "    </tr>\n",
       "    <tr>\n",
       "      <th>3</th>\n",
       "      <td>4</td>\n",
       "      <td>Male</td>\n",
       "      <td>Cam</td>\n",
       "      <td>Syson</td>\n",
       "      <td>38</td>\n",
       "      <td>csyson3@omniture.com</td>\n",
       "      <td>Brazil</td>\n",
       "      <td>Help Desk Technician</td>\n",
       "      <td>4832</td>\n",
       "    </tr>\n",
       "    <tr>\n",
       "      <th>4</th>\n",
       "      <td>5</td>\n",
       "      <td>Male</td>\n",
       "      <td>Sheelah</td>\n",
       "      <td>Truwert</td>\n",
       "      <td>43</td>\n",
       "      <td>struwert4@cbsnews.com</td>\n",
       "      <td>Indonesia</td>\n",
       "      <td>Account Representative II</td>\n",
       "      <td>4534</td>\n",
       "    </tr>\n",
       "    <tr>\n",
       "      <th>...</th>\n",
       "      <td>...</td>\n",
       "      <td>...</td>\n",
       "      <td>...</td>\n",
       "      <td>...</td>\n",
       "      <td>...</td>\n",
       "      <td>...</td>\n",
       "      <td>...</td>\n",
       "      <td>...</td>\n",
       "      <td>...</td>\n",
       "    </tr>\n",
       "    <tr>\n",
       "      <th>862</th>\n",
       "      <td>863</td>\n",
       "      <td>Female</td>\n",
       "      <td>Romona</td>\n",
       "      <td>Moreinis</td>\n",
       "      <td>46</td>\n",
       "      <td>rmoreinisny@stanford.edu</td>\n",
       "      <td>China</td>\n",
       "      <td>Recruiter</td>\n",
       "      <td>4578</td>\n",
       "    </tr>\n",
       "    <tr>\n",
       "      <th>863</th>\n",
       "      <td>864</td>\n",
       "      <td>Female</td>\n",
       "      <td>Christel</td>\n",
       "      <td>Ireson</td>\n",
       "      <td>45</td>\n",
       "      <td>ciresonnz@chron.com</td>\n",
       "      <td>Nigeria</td>\n",
       "      <td>Civil Engineer</td>\n",
       "      <td>5424</td>\n",
       "    </tr>\n",
       "    <tr>\n",
       "      <th>864</th>\n",
       "      <td>865</td>\n",
       "      <td>Female</td>\n",
       "      <td>Dana</td>\n",
       "      <td>Varcoe</td>\n",
       "      <td>56</td>\n",
       "      <td>dvarcoeo0@google.com</td>\n",
       "      <td>Greece</td>\n",
       "      <td>Clinical Specialist</td>\n",
       "      <td>5164</td>\n",
       "    </tr>\n",
       "    <tr>\n",
       "      <th>865</th>\n",
       "      <td>866</td>\n",
       "      <td>Male</td>\n",
       "      <td>Giacinta</td>\n",
       "      <td>Blune</td>\n",
       "      <td>54</td>\n",
       "      <td>gbluneo1@statcounter.com</td>\n",
       "      <td>Haiti</td>\n",
       "      <td>Chemical Engineer</td>\n",
       "      <td>6019</td>\n",
       "    </tr>\n",
       "    <tr>\n",
       "      <th>866</th>\n",
       "      <td>867</td>\n",
       "      <td>Female</td>\n",
       "      <td>Trumann</td>\n",
       "      <td>Kybert</td>\n",
       "      <td>46</td>\n",
       "      <td>tkyberto2@weebly.com</td>\n",
       "      <td>Spain</td>\n",
       "      <td>Clinical Specialist</td>\n",
       "      <td>4767</td>\n",
       "    </tr>\n",
       "  </tbody>\n",
       "</table>\n",
       "<p>867 rows × 9 columns</p>\n",
       "</div>"
      ],
      "text/plain": [
       "      id  gender first_name  last_name  age                     email  \\\n",
       "0      1  Female     Sander       Gard   47       sgard0@netvibes.com   \n",
       "1      2  Female      Brody  Gillhespy   47     bgillhespy1@issuu.com   \n",
       "2      3    Male      Mason       Impy   50       mimpy2@slashdot.org   \n",
       "3      4    Male        Cam      Syson   38      csyson3@omniture.com   \n",
       "4      5    Male    Sheelah    Truwert   43     struwert4@cbsnews.com   \n",
       "..   ...     ...        ...        ...  ...                       ...   \n",
       "862  863  Female     Romona   Moreinis   46  rmoreinisny@stanford.edu   \n",
       "863  864  Female   Christel     Ireson   45       ciresonnz@chron.com   \n",
       "864  865  Female       Dana     Varcoe   56      dvarcoeo0@google.com   \n",
       "865  866    Male   Giacinta      Blune   54  gbluneo1@statcounter.com   \n",
       "866  867  Female    Trumann     Kybert   46      tkyberto2@weebly.com   \n",
       "\n",
       "           country                        job  salary  \n",
       "0            China          Financial Analyst    4592  \n",
       "1            China             Tax Accountant    3969  \n",
       "2    United States                     Editor    5727  \n",
       "3           Brazil       Help Desk Technician    4832  \n",
       "4        Indonesia  Account Representative II    4534  \n",
       "..             ...                        ...     ...  \n",
       "862          China                  Recruiter    4578  \n",
       "863        Nigeria             Civil Engineer    5424  \n",
       "864         Greece        Clinical Specialist    5164  \n",
       "865          Haiti          Chemical Engineer    6019  \n",
       "866          Spain        Clinical Specialist    4767  \n",
       "\n",
       "[867 rows x 9 columns]"
      ]
     },
     "execution_count": 1,
     "metadata": {},
     "output_type": "execute_result"
    }
   ],
   "source": [
    "import pandas as pd\n",
    "\n",
    "df = pd.read_csv(\"MOCK_DATA.csv\")\n",
    "df"
   ]
  },
  {
   "cell_type": "code",
   "execution_count": 2,
   "metadata": {},
   "outputs": [
    {
     "name": "stdout",
     "output_type": "stream",
     "text": [
      "<class 'pandas.core.frame.DataFrame'>\n",
      "RangeIndex: 867 entries, 0 to 866\n",
      "Data columns (total 9 columns):\n",
      "id            867 non-null int64\n",
      "gender        867 non-null object\n",
      "first_name    867 non-null object\n",
      "last_name     867 non-null object\n",
      "age           867 non-null int64\n",
      "email         867 non-null object\n",
      "country       867 non-null object\n",
      "job           867 non-null object\n",
      "salary        867 non-null int64\n",
      "dtypes: int64(3), object(6)\n",
      "memory usage: 61.1+ KB\n"
     ]
    }
   ],
   "source": [
    "df.info()"
   ]
  },
  {
   "cell_type": "markdown",
   "metadata": {},
   "source": [
    "#### Quality Data"
   ]
  },
  {
   "cell_type": "markdown",
   "metadata": {},
   "source": [
    "#### What is the gender balance in the company?"
   ]
  },
  {
   "cell_type": "code",
   "execution_count": 3,
   "metadata": {},
   "outputs": [
    {
     "data": {
      "text/plain": [
       "count        867\n",
       "unique         2\n",
       "top       Female\n",
       "freq         450\n",
       "Name: gender, dtype: object"
      ]
     },
     "execution_count": 3,
     "metadata": {},
     "output_type": "execute_result"
    }
   ],
   "source": [
    "df_count_gender = df\n",
    "df_count_gender[\"gender\"].describe()"
   ]
  },
  {
   "cell_type": "code",
   "execution_count": 4,
   "metadata": {},
   "outputs": [
    {
     "data": {
      "image/png": "[encoded data removed]",
      "text/plain": [
       "<Figure size 432x288 with 1 Axes>"
      ]
     },
     "metadata": {
      "needs_background": "light"
     },
     "output_type": "display_data"
    }
   ],
   "source": [
    "df_count_gender['gender'].value_counts().plot(kind='bar');"
   ]
  },
  {
   "cell_type": "markdown",
   "metadata": {},
   "source": [
    "### KPI Gender\n",
    "\n",
    "> KPI = number of gender most frequent / number total of salaries"
   ]
  },
  {
   "cell_type": "code",
   "execution_count": 5,
   "metadata": {},
   "outputs": [
    {
     "data": {
      "text/plain": [
       "0.5190311418685121"
      ]
     },
     "execution_count": 5,
     "metadata": {},
     "output_type": "execute_result"
    }
   ],
   "source": [
    "KPI_Gender = df_count_gender[\"gender\"].describe().freq/df_count_gender[\"gender\"].count()\n",
    "KPI_Gender"
   ]
  },
  {
   "cell_type": "markdown",
   "metadata": {},
   "source": [
    "### KPI Wage Gap"
   ]
  },
  {
   "cell_type": "markdown",
   "metadata": {},
   "source": [
    "$$X = Women's average hourly wage$$\n",
    "$$Y = Men's average hourly wage$$\n",
    "\n",
    "$$Wage Gap =100\\%-({X\\over Y}\\times100)$$"
   ]
  },
  {
   "cell_type": "code",
   "execution_count": 6,
   "metadata": {},
   "outputs": [
    {
     "name": "stdout",
     "output_type": "stream",
     "text": [
      "X= 4780.562222222222\n",
      "Y= 4802.976019184653\n",
      "KPI_Wage_Gap= 0.00466664769361802\n"
     ]
    }
   ],
   "source": [
    "X = df[df[\"gender\"] == 'Female'][\"salary\"].sum() / df[df[\"gender\"] == 'Female'][\"salary\"].count()\n",
    "Y = df[df[\"gender\"] == 'Male'][\"salary\"].sum() / df[df[\"gender\"] == 'Male'][\"salary\"].count()\n",
    "\n",
    "print(\"X= \"+str(X))\n",
    "print(\"Y= \"+str(Y))\n",
    "\n",
    "KPI_Wage_Gap = 1-(X/Y)\n",
    "print(\"KPI_Wage_Gap= \"+str(KPI_Wage_Gap))"
   ]
  },
  {
   "cell_type": "markdown",
   "metadata": {},
   "source": [
    "### Visualise Proportion of salaries about Sales department"
   ]
  },
  {
   "cell_type": "code",
   "execution_count": 65,
   "metadata": {},
   "outputs": [
    {
     "data": {
      "text/html": [
       "<div>\n",
       "<style scoped>\n",
       "    .dataframe tbody tr th:only-of-type {\n",
       "        vertical-align: middle;\n",
       "    }\n",
       "\n",
       "    .dataframe tbody tr th {\n",
       "        vertical-align: top;\n",
       "    }\n",
       "\n",
       "    .dataframe thead th {\n",
       "        text-align: right;\n",
       "    }\n",
       "</style>\n",
       "<table border=\"1\" class=\"dataframe\">\n",
       "  <thead>\n",
       "    <tr style=\"text-align: right;\">\n",
       "      <th></th>\n",
       "      <th>id</th>\n",
       "      <th>gender</th>\n",
       "      <th>first_name</th>\n",
       "      <th>last_name</th>\n",
       "      <th>age</th>\n",
       "      <th>email</th>\n",
       "      <th>country</th>\n",
       "      <th>job</th>\n",
       "      <th>salary</th>\n",
       "    </tr>\n",
       "  </thead>\n",
       "  <tbody>\n",
       "    <tr>\n",
       "      <th>1</th>\n",
       "      <td>2</td>\n",
       "      <td>Female</td>\n",
       "      <td>Brody</td>\n",
       "      <td>Gillhespy</td>\n",
       "      <td>47</td>\n",
       "      <td>bgillhespy1@issuu.com</td>\n",
       "      <td>China</td>\n",
       "      <td>Tax Accountant</td>\n",
       "      <td>3969</td>\n",
       "    </tr>\n",
       "    <tr>\n",
       "      <th>21</th>\n",
       "      <td>22</td>\n",
       "      <td>Male</td>\n",
       "      <td>Eadmund</td>\n",
       "      <td>Kaplan</td>\n",
       "      <td>40</td>\n",
       "      <td>ekaplanl@spotify.com</td>\n",
       "      <td>Monaco</td>\n",
       "      <td>Accountant I</td>\n",
       "      <td>3477</td>\n",
       "    </tr>\n",
       "    <tr>\n",
       "      <th>29</th>\n",
       "      <td>30</td>\n",
       "      <td>Male</td>\n",
       "      <td>Elke</td>\n",
       "      <td>Halversen</td>\n",
       "      <td>43</td>\n",
       "      <td>ehalversent@adobe.com</td>\n",
       "      <td>Haiti</td>\n",
       "      <td>Senior Cost Accountant</td>\n",
       "      <td>4538</td>\n",
       "    </tr>\n",
       "    <tr>\n",
       "      <th>50</th>\n",
       "      <td>51</td>\n",
       "      <td>Male</td>\n",
       "      <td>Jackie</td>\n",
       "      <td>Olorenshaw</td>\n",
       "      <td>56</td>\n",
       "      <td>jolorenshaw1e@latimes.com</td>\n",
       "      <td>Pakistan</td>\n",
       "      <td>Cost Accountant</td>\n",
       "      <td>6112</td>\n",
       "    </tr>\n",
       "    <tr>\n",
       "      <th>72</th>\n",
       "      <td>73</td>\n",
       "      <td>Female</td>\n",
       "      <td>Michail</td>\n",
       "      <td>Leamon</td>\n",
       "      <td>38</td>\n",
       "      <td>mleamon20@slideshare.net</td>\n",
       "      <td>Vietnam</td>\n",
       "      <td>Cost Accountant</td>\n",
       "      <td>3445</td>\n",
       "    </tr>\n",
       "  </tbody>\n",
       "</table>\n",
       "</div>"
      ],
      "text/plain": [
       "    id  gender first_name   last_name  age                      email  \\\n",
       "1    2  Female      Brody   Gillhespy   47      bgillhespy1@issuu.com   \n",
       "21  22    Male    Eadmund      Kaplan   40       ekaplanl@spotify.com   \n",
       "29  30    Male       Elke   Halversen   43      ehalversent@adobe.com   \n",
       "50  51    Male     Jackie  Olorenshaw   56  jolorenshaw1e@latimes.com   \n",
       "72  73  Female    Michail      Leamon   38   mleamon20@slideshare.net   \n",
       "\n",
       "     country                     job  salary  \n",
       "1      China          Tax Accountant    3969  \n",
       "21    Monaco            Accountant I    3477  \n",
       "29     Haiti  Senior Cost Accountant    4538  \n",
       "50  Pakistan         Cost Accountant    6112  \n",
       "72   Vietnam         Cost Accountant    3445  "
      ]
     },
     "execution_count": 65,
     "metadata": {},
     "output_type": "execute_result"
    }
   ],
   "source": [
    "filterAccountantDepartment = df['job'].str.contains(\"Accountant\")\n",
    "df = df[filterAccountantDepartment]\n",
    "df.head(5)"
   ]
  },
  {
   "cell_type": "code",
   "execution_count": 66,
   "metadata": {},
   "outputs": [
    {
     "data": {
      "text/plain": [
       "<matplotlib.axes._subplots.AxesSubplot at 0x2c01b16bf60>"
      ]
     },
     "execution_count": 66,
     "metadata": {},
     "output_type": "execute_result"
    },
    {
     "data": {
      "image/png": "[encoded data removed]",
      "text/plain": [
       "<Figure size 432x288 with 1 Axes>"
      ]
     },
     "metadata": {
      "needs_background": "light"
     },
     "output_type": "display_data"
    }
   ],
   "source": [
    "df['job'].value_counts().plot(kind='bar')"
   ]
  },
  {
   "cell_type": "code",
   "execution_count": 67,
   "metadata": {},
   "outputs": [
    {
     "data": {
      "text/plain": [
       "array([<matplotlib.axes._subplots.AxesSubplot object at 0x000002C01A523400>],\n",
       "      dtype=object)"
      ]
     },
     "execution_count": 67,
     "metadata": {},
     "output_type": "execute_result"
    },
    {
     "data": {
      "image/png": "[encoded data removed]",
      "text/plain": [
       "<Figure size 792x432 with 1 Axes>"
      ]
     },
     "metadata": {},
     "output_type": "display_data"
    }
   ],
   "source": [
    "df['job'].value_counts().plot.pie(subplots=True, figsize=(11, 6))"
   ]
  },
  {
   "cell_type": "markdown",
   "metadata": {},
   "source": [
    "### Wage Average by job"
   ]
  },
  {
   "cell_type": "code",
   "execution_count": 68,
   "metadata": {},
   "outputs": [],
   "source": [
    "df_salaries_by_job = df.groupby(by=[\"job\"]).mean()[\"salary\"]"
   ]
  },
  {
   "cell_type": "code",
   "execution_count": 69,
   "metadata": {},
   "outputs": [
    {
     "data": {
      "text/plain": [
       "<matplotlib.axes._subplots.AxesSubplot at 0x2c01b2422b0>"
      ]
     },
     "execution_count": 69,
     "metadata": {},
     "output_type": "execute_result"
    },
    {
     "data": {
      "image/png": "[encoded data removed]",
      "text/plain": [
       "<Figure size 432x288 with 1 Axes>"
      ]
     },
     "metadata": {
      "needs_background": "light"
     },
     "output_type": "display_data"
    }
   ],
   "source": [
    "df_salaries_by_job.plot.kde()"
   ]
  },
  {
   "cell_type": "code",
   "execution_count": 70,
   "metadata": {},
   "outputs": [
    {
     "data": {
      "image/png": "[encoded data removed]",
      "text/plain": [
       "<Figure size 432x288 with 1 Axes>"
      ]
     },
     "metadata": {
      "needs_background": "light"
     },
     "output_type": "display_data"
    }
   ],
   "source": [
    "df.plot.scatter(x=\"age\", y=\"salary\");"
   ]
  },
  {
   "cell_type": "markdown",
   "metadata": {},
   "source": [
    "### Predict Salry in this company"
   ]
  },
  {
   "cell_type": "code",
   "execution_count": 88,
   "metadata": {},
   "outputs": [],
   "source": [
    "from sklearn import preprocessing\n",
    "\n",
    "le = preprocessing.LabelEncoder()\n",
    "for column_name in df.columns:\n",
    "    if df[column_name].dtype == object:\n",
    "        df[column_name] = le.fit_transform(df[column_name])\n",
    "    else:\n",
    "        pass\n",
    "df.head()\n",
    "\n",
    "from sklearn.model_selection import train_test_split\n",
    "\n",
    "# Taking only the features that is important for now\n",
    "X = df[['country','gender','job', 'age']]\n",
    "\n",
    "# Taking the labels (Income)\n",
    "Y = df['salary']\n",
    "\n",
    "# Spliting into 80% for training set and 20% for testing set so we can see our accuracy\n",
    "X_train, x_test, Y_train, y_test = train_test_split(X, Y, test_size=0.2, random_state=0)"
   ]
  },
  {
   "cell_type": "code",
   "execution_count": 89,
   "metadata": {},
   "outputs": [],
   "source": [
    "from sklearn import tree\n",
    "clf = tree.DecisionTreeClassifier()\n",
    "clf = clf.fit(X_train, Y_train)"
   ]
  },
  {
   "cell_type": "code",
   "execution_count": 93,
   "metadata": {},
   "outputs": [
    {
     "data": {
      "text/plain": [
       "array([6485], dtype=int64)"
      ]
     },
     "execution_count": 93,
     "metadata": {},
     "output_type": "execute_result"
    }
   ],
   "source": [
    "clf.predict([[1,1,8,45]])"
   ]
  }
 ],
 "metadata": {
  "kernelspec": {
   "display_name": "Python 3",
   "language": "python",
   "name": "python3"
  },
  "language_info": {
   "codemirror_mode": {
    "name": "ipython",
    "version": 3
   },
   "file_extension": ".py",
   "mimetype": "text/x-python",
   "name": "python",
   "nbconvert_exporter": "python",
   "pygments_lexer": "ipython3",
   "version": "3.8.5"
  }
 },
 "nbformat": 4,
 "nbformat_minor": 4
}
