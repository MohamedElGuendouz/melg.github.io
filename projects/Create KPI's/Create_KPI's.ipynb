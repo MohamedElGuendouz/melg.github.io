{
 "cells": [
  {
   "cell_type": "markdown",
   "metadata": {},
   "source": [
    "# MOHAMED EL GUENDOUZ\n",
    "## Create KPI's"
   ]
  },
  {
   "cell_type": "markdown",
   "metadata": {},
   "source": [
    "#### Import Mock Data"
   ]
  },
  {
   "cell_type": "code",
   "execution_count": 106,
   "metadata": {},
   "outputs": [
    {
     "data": {
      "text/html": [
       "<div>\n",
       "<style scoped>\n",
       "    .dataframe tbody tr th:only-of-type {\n",
       "        vertical-align: middle;\n",
       "    }\n",
       "\n",
       "    .dataframe tbody tr th {\n",
       "        vertical-align: top;\n",
       "    }\n",
       "\n",
       "    .dataframe thead th {\n",
       "        text-align: right;\n",
       "    }\n",
       "</style>\n",
       "<table border=\"1\" class=\"dataframe\">\n",
       "  <thead>\n",
       "    <tr style=\"text-align: right;\">\n",
       "      <th></th>\n",
       "      <th>id</th>\n",
       "      <th>gender</th>\n",
       "      <th>first_name</th>\n",
       "      <th>last_name</th>\n",
       "      <th>age</th>\n",
       "      <th>job</th>\n",
       "      <th>country</th>\n",
       "      <th>salary</th>\n",
       "    </tr>\n",
       "  </thead>\n",
       "  <tbody>\n",
       "    <tr>\n",
       "      <th>0</th>\n",
       "      <td>1</td>\n",
       "      <td>Male</td>\n",
       "      <td>Chlo</td>\n",
       "      <td>McKilroe</td>\n",
       "      <td>62</td>\n",
       "      <td>Software Consultant</td>\n",
       "      <td>Indonesia</td>\n",
       "      <td>4078</td>\n",
       "    </tr>\n",
       "    <tr>\n",
       "      <th>1</th>\n",
       "      <td>2</td>\n",
       "      <td>Female</td>\n",
       "      <td>Agustin</td>\n",
       "      <td>Piscopiello</td>\n",
       "      <td>63</td>\n",
       "      <td>Safety Technician II</td>\n",
       "      <td>China</td>\n",
       "      <td>2751</td>\n",
       "    </tr>\n",
       "    <tr>\n",
       "      <th>2</th>\n",
       "      <td>3</td>\n",
       "      <td>Female</td>\n",
       "      <td>Kalil</td>\n",
       "      <td>Ellingworth</td>\n",
       "      <td>39</td>\n",
       "      <td>Librarian</td>\n",
       "      <td>China</td>\n",
       "      <td>3656</td>\n",
       "    </tr>\n",
       "    <tr>\n",
       "      <th>3</th>\n",
       "      <td>4</td>\n",
       "      <td>Female</td>\n",
       "      <td>Ruprecht</td>\n",
       "      <td>Reye</td>\n",
       "      <td>65</td>\n",
       "      <td>Engineer III</td>\n",
       "      <td>Indonesia</td>\n",
       "      <td>1581</td>\n",
       "    </tr>\n",
       "    <tr>\n",
       "      <th>4</th>\n",
       "      <td>5</td>\n",
       "      <td>Female</td>\n",
       "      <td>Rudie</td>\n",
       "      <td>Brewitt</td>\n",
       "      <td>24</td>\n",
       "      <td>Research Assistant III</td>\n",
       "      <td>France</td>\n",
       "      <td>7432</td>\n",
       "    </tr>\n",
       "    <tr>\n",
       "      <th>...</th>\n",
       "      <td>...</td>\n",
       "      <td>...</td>\n",
       "      <td>...</td>\n",
       "      <td>...</td>\n",
       "      <td>...</td>\n",
       "      <td>...</td>\n",
       "      <td>...</td>\n",
       "      <td>...</td>\n",
       "    </tr>\n",
       "    <tr>\n",
       "      <th>777</th>\n",
       "      <td>778</td>\n",
       "      <td>Female</td>\n",
       "      <td>Prescott</td>\n",
       "      <td>Beste</td>\n",
       "      <td>27</td>\n",
       "      <td>Graphic Designer</td>\n",
       "      <td>Russia</td>\n",
       "      <td>3886</td>\n",
       "    </tr>\n",
       "    <tr>\n",
       "      <th>778</th>\n",
       "      <td>779</td>\n",
       "      <td>Male</td>\n",
       "      <td>Averil</td>\n",
       "      <td>Clausner</td>\n",
       "      <td>60</td>\n",
       "      <td>Administrative Officer</td>\n",
       "      <td>China</td>\n",
       "      <td>8124</td>\n",
       "    </tr>\n",
       "    <tr>\n",
       "      <th>779</th>\n",
       "      <td>780</td>\n",
       "      <td>Male</td>\n",
       "      <td>Camille</td>\n",
       "      <td>Hanning</td>\n",
       "      <td>43</td>\n",
       "      <td>Senior Sales Associate</td>\n",
       "      <td>Czech Republic</td>\n",
       "      <td>7684</td>\n",
       "    </tr>\n",
       "    <tr>\n",
       "      <th>780</th>\n",
       "      <td>781</td>\n",
       "      <td>Male</td>\n",
       "      <td>Judah</td>\n",
       "      <td>Haywood</td>\n",
       "      <td>47</td>\n",
       "      <td>Cost Accountant</td>\n",
       "      <td>Spain</td>\n",
       "      <td>3035</td>\n",
       "    </tr>\n",
       "    <tr>\n",
       "      <th>781</th>\n",
       "      <td>782</td>\n",
       "      <td>Male</td>\n",
       "      <td>Kerrie</td>\n",
       "      <td>Judson</td>\n",
       "      <td>31</td>\n",
       "      <td>VP Marketing</td>\n",
       "      <td>China</td>\n",
       "      <td>2424</td>\n",
       "    </tr>\n",
       "  </tbody>\n",
       "</table>\n",
       "<p>782 rows × 8 columns</p>\n",
       "</div>"
      ],
      "text/plain": [
       "      id  gender first_name    last_name  age                     job  \\\n",
       "0      1    Male       Chlo     McKilroe   62     Software Consultant   \n",
       "1      2  Female    Agustin  Piscopiello   63    Safety Technician II   \n",
       "2      3  Female      Kalil  Ellingworth   39               Librarian   \n",
       "3      4  Female   Ruprecht         Reye   65            Engineer III   \n",
       "4      5  Female      Rudie      Brewitt   24  Research Assistant III   \n",
       "..   ...     ...        ...          ...  ...                     ...   \n",
       "777  778  Female   Prescott        Beste   27        Graphic Designer   \n",
       "778  779    Male     Averil     Clausner   60  Administrative Officer   \n",
       "779  780    Male    Camille      Hanning   43  Senior Sales Associate   \n",
       "780  781    Male      Judah      Haywood   47         Cost Accountant   \n",
       "781  782    Male     Kerrie       Judson   31            VP Marketing   \n",
       "\n",
       "            country  salary  \n",
       "0         Indonesia    4078  \n",
       "1             China    2751  \n",
       "2             China    3656  \n",
       "3         Indonesia    1581  \n",
       "4            France    7432  \n",
       "..              ...     ...  \n",
       "777          Russia    3886  \n",
       "778           China    8124  \n",
       "779  Czech Republic    7684  \n",
       "780           Spain    3035  \n",
       "781           China    2424  \n",
       "\n",
       "[782 rows x 8 columns]"
      ]
     },
     "execution_count": 106,
     "metadata": {},
     "output_type": "execute_result"
    }
   ],
   "source": [
    "import pandas as pd\n",
    "\n",
    "df = pd.read_csv(\"MOCK_DATA.csv\")\n",
    "df"
   ]
  },
  {
   "cell_type": "code",
   "execution_count": 107,
   "metadata": {},
   "outputs": [
    {
     "name": "stdout",
     "output_type": "stream",
     "text": [
      "<class 'pandas.core.frame.DataFrame'>\n",
      "RangeIndex: 782 entries, 0 to 781\n",
      "Data columns (total 8 columns):\n",
      "id            782 non-null int64\n",
      "gender        782 non-null object\n",
      "first_name    782 non-null object\n",
      "last_name     782 non-null object\n",
      "age           782 non-null int64\n",
      "job           782 non-null object\n",
      "country       782 non-null object\n",
      "salary        782 non-null int64\n",
      "dtypes: int64(3), object(5)\n",
      "memory usage: 49.0+ KB\n"
     ]
    }
   ],
   "source": [
    "df.info()"
   ]
  },
  {
   "cell_type": "markdown",
   "metadata": {},
   "source": [
    "#### Quality Data"
   ]
  },
  {
   "cell_type": "markdown",
   "metadata": {},
   "source": [
    "#### What is the gender balance in the company?"
   ]
  },
  {
   "cell_type": "code",
   "execution_count": 34,
   "metadata": {},
   "outputs": [
    {
     "data": {
      "text/plain": [
       "count      782\n",
       "unique       2\n",
       "top       Male\n",
       "freq       398\n",
       "Name: gender, dtype: object"
      ]
     },
     "execution_count": 34,
     "metadata": {},
     "output_type": "execute_result"
    }
   ],
   "source": [
    "df_count_gender = df\n",
    "df_count_gender[\"gender\"].describe()"
   ]
  },
  {
   "cell_type": "code",
   "execution_count": 64,
   "metadata": {},
   "outputs": [
    {
     "data": {
      "image/png": "[encoded data removed]",
      "text/plain": [
       "<Figure size 432x288 with 1 Axes>"
      ]
     },
     "metadata": {
      "needs_background": "light"
     },
     "output_type": "display_data"
    }
   ],
   "source": [
    "df_count_gender['gender'].value_counts().plot(kind='bar');"
   ]
  },
  {
   "cell_type": "markdown",
   "metadata": {},
   "source": [
    "### KPI Gender\n",
    "\n",
    "> KPI = number of gender most frequent / number total of salaries"
   ]
  },
  {
   "cell_type": "code",
   "execution_count": 61,
   "metadata": {},
   "outputs": [
    {
     "data": {
      "text/plain": [
       "0.5089514066496164"
      ]
     },
     "execution_count": 61,
     "metadata": {},
     "output_type": "execute_result"
    }
   ],
   "source": [
    "KPI_Gender = df_count_gender[\"gender\"].describe().freq/df_count_gender[\"gender\"].count()\n",
    "KPI_Gender"
   ]
  },
  {
   "cell_type": "markdown",
   "metadata": {},
   "source": [
    "### KPI Wage Gap"
   ]
  },
  {
   "cell_type": "markdown",
   "metadata": {},
   "source": [
    "$$X = Women's average hourly wage$$\n",
    "$$Y = Men's average hourly wage$$\n",
    "\n",
    "$$Wage Gap =100\\%-({X\\over Y}\\times100)$$"
   ]
  },
  {
   "cell_type": "code",
   "execution_count": null,
   "metadata": {},
   "outputs": [],
   "source": [
    "X = "
   ]
  },
  {
   "cell_type": "markdown",
   "metadata": {},
   "source": [
    "### Visualise Proportion of salaries about job (TOP 10)"
   ]
  },
  {
   "cell_type": "code",
   "execution_count": 74,
   "metadata": {},
   "outputs": [
    {
     "data": {
      "image/png": "[encoded data removed]",
      "text/plain": [
       "<Figure size 432x288 with 1 Axes>"
      ]
     },
     "metadata": {
      "needs_background": "light"
     },
     "output_type": "display_data"
    }
   ],
   "source": [
    "df['job'].value_counts().head(10).plot(kind='bar');"
   ]
  },
  {
   "cell_type": "markdown",
   "metadata": {},
   "source": [
    "## Add others jobs in the visualisation"
   ]
  },
  {
   "cell_type": "code",
   "execution_count": 86,
   "metadata": {},
   "outputs": [
    {
     "data": {
      "text/plain": [
       "Administrative Officer     14\n",
       "Recruiter                  13\n",
       "Civil Engineer             12\n",
       "Dental Hygienist           11\n",
       "Assistant Professor        11\n",
       "Account Coordinator        11\n",
       "Environmental Tech         11\n",
       "Financial Analyst          10\n",
       "Executive Secretary        10\n",
       "Social Worker              10\n",
       "Others                    669\n",
       "dtype: int64"
      ]
     },
     "execution_count": 86,
     "metadata": {},
     "output_type": "execute_result"
    }
   ],
   "source": [
    "series_jobs = df['job'].value_counts().head(10)\n",
    "\n",
    "sum_others_jobs = df_count_gender[\"job\"].count() - series_jobs.sum()\n",
    "series_jobs = series_jobs.append(pd.Series([sum_others_jobs], index=['Others']))\n",
    "\n",
    "series_jobs"
   ]
  },
  {
   "cell_type": "code",
   "execution_count": 104,
   "metadata": {},
   "outputs": [
    {
     "data": {
      "image/png": "[encoded data removed]",
      "text/plain": [
       "<Figure size 504x1440 with 1 Axes>"
      ]
     },
     "metadata": {},
     "output_type": "display_data"
    }
   ],
   "source": [
    "jobs_plot_pie = series_jobs.plot.pie(y='Proportion of jobs', subplots=True, figsize=(7, 20))"
   ]
  },
  {
   "cell_type": "code",
   "execution_count": null,
   "metadata": {},
   "outputs": [],
   "source": []
  },
  {
   "cell_type": "code",
   "execution_count": null,
   "metadata": {},
   "outputs": [],
   "source": []
  }
 ],
 "metadata": {
  "kernelspec": {
   "display_name": "Python 3",
   "language": "python",
   "name": "python3"
  },
  "language_info": {
   "codemirror_mode": {
    "name": "ipython",
    "version": 3
   },
   "file_extension": ".py",
   "mimetype": "text/x-python",
   "name": "python",
   "nbconvert_exporter": "python",
   "pygments_lexer": "ipython3",
   "version": "3.6.5"
  }
 },
 "nbformat": 4,
 "nbformat_minor": 4
}
